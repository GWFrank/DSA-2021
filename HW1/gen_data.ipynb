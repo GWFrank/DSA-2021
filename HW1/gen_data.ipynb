{
 "metadata": {
  "language_info": {
   "codemirror_mode": {
    "name": "ipython",
    "version": 3
   },
   "file_extension": ".py",
   "mimetype": "text/x-python",
   "name": "python",
   "nbconvert_exporter": "python",
   "pygments_lexer": "ipython3",
   "version": "3.8.8-final"
  },
  "orig_nbformat": 2,
  "kernelspec": {
   "name": "python388jvsc74a57bd09388b921acf3223bba84329a7130b76507e1e2471c00c4c85a49271d59a7fbfd",
   "display_name": "Python 3.8.8 64-bit ('base': conda)"
  }
 },
 "nbformat": 4,
 "nbformat_minor": 2,
 "cells": [
  {
   "source": [
    "# For p4"
   ],
   "cell_type": "markdown",
   "metadata": {}
  },
  {
   "cell_type": "code",
   "execution_count": 33,
   "metadata": {},
   "outputs": [],
   "source": [
    "import random as rnd\n",
    "def get_op():\n",
    "    ops = [\"+\", \"-\", \"*\", \"/\"]\n",
    "    # ops = [\"+\", \"-\", \"*\"]\n",
    "    return rnd.choice(ops)\n",
    "\n",
    "def get_num(max_n):\n",
    "    return str(rnd.randint(1, max_n))\n",
    "\n",
    "def get_case(length, max_n, depth):\n",
    "    p = 0\n",
    "    case = \"\"\n",
    "    for _ in range(length):\n",
    "        if rnd.random()>p and depth>0:\n",
    "            case += f\"({get_case(length-1, max_n, depth-1)})\"\n",
    "        else:\n",
    "            case += get_num(max_n)\n",
    "        case += get_op()\n",
    "    if rnd.random()>p and depth>0:\n",
    "        case += f\"({get_case(length-1, max_n, depth-1)})\"\n",
    "    else:\n",
    "        case += get_num(max_n)\n",
    "    return case"
   ]
  },
  {
   "cell_type": "code",
   "execution_count": 43,
   "metadata": {},
   "outputs": [],
   "source": [
    "case_num = 10\n",
    "length = 7\n",
    "max_n = 10**3\n",
    "par_depth = 4\n",
    "test_cases = []\n",
    "for _ in range(case_num):\n",
    "    test_cases.append(get_case(length, max_n, par_depth))\n"
   ]
  },
  {
   "cell_type": "code",
   "execution_count": 44,
   "metadata": {},
   "outputs": [],
   "source": [
    "with open(\"p4.in\", mode='w') as file:\n",
    "    for c in test_cases:\n",
    "        file.write(c)\n",
    "        file.write('\\n')"
   ]
  },
  {
   "cell_type": "code",
   "execution_count": 45,
   "metadata": {},
   "outputs": [],
   "source": [
    "with open(\"p4.ans\", mode='w') as file:\n",
    "    for c in test_cases:\n",
    "        file.write(f\"{eval(c):f}\")\n",
    "        file.write('\\n')\n",
    "        # print(f\"{eval(c):.6f}\")\n",
    "# for c in test_cases:"
   ]
  },
  {
   "cell_type": "code",
   "execution_count": 4,
   "metadata": {},
   "outputs": [
    {
     "output_type": "stream",
     "name": "stdout",
     "text": [
      "461\n7257\n8638\n3006\n4183\n6344\n6745\n9250\n2031\n3292\n7856\n4364\n5037\n6077\n4796\n9684\n3106\n2802\n7353\n6809\n"
     ]
    }
   ],
   "source": [
    "for i in range(20):\n",
    "    print(get_num(10**4))"
   ]
  },
  {
   "cell_type": "code",
   "execution_count": 7,
   "metadata": {},
   "outputs": [
    {
     "output_type": "execute_result",
     "data": {
      "text/plain": [
       "-127232123392.47882"
      ]
     },
     "metadata": {},
     "execution_count": 7
    }
   ],
   "source": [
    "line = \"(461*(7257-8638)-(3006*4364)+(4183/6344)/6745)*9250+2031/3292+(7856)\"\n",
    "eval(line)"
   ]
  },
  {
   "source": [
    "# For p6"
   ],
   "cell_type": "markdown",
   "metadata": {}
  },
  {
   "cell_type": "code",
   "execution_count": 1,
   "metadata": {},
   "outputs": [
    {
     "output_type": "stream",
     "name": "stdout",
     "text": [
      "[8494, 26131, 37364, 2438, 10387, 33760, 2606, 33801, 2066, 25607]\ndelete 7\nreverse 7 7\nreverse 6 6\nreverse 8 8\nreverse 1 8\n"
     ]
    }
   ],
   "source": [
    "from random import choice, randint\n",
    "cmds = [\"reverse\", \"insert\", \"delete\"]\n",
    "arr = []\n",
    "for i in range(10):\n",
    "    arr.append(randint(0,50000))\n",
    "print(arr)\n",
    "for i in range(5):\n",
    "    cmd = choice(cmds)\n",
    "    if cmd == \"delete\":\n",
    "        idx = randint(0, len(arr)-1)\n",
    "        arr.pop(idx)\n",
    "        print(f\"{cmd} {idx}\")\n",
    "    elif cmd == \"reverse\":\n",
    "        st = randint(0, len(arr)-1)\n",
    "        ed = randint(st, len(arr)-1)\n",
    "        pre = arr[:st]\n",
    "        re = arr[st:ed+1]\n",
    "        po = arr[ed+1:]\n",
    "        re.reverse()\n",
    "        arr = pre+re+po\n",
    "        print(f\"{cmd} {st} {ed}\")\n",
    "    elif cmd == \"insert\":\n",
    "        ele = randint(0, 50000)\n",
    "        pos = randint(0, len(arr)-1)\n",
    "        arr.insert(pos, ele)\n",
    "        print(f\"{cmd} {ele} {pos}\")\n",
    "\n"
   ]
  },
  {
   "cell_type": "code",
   "execution_count": 2,
   "metadata": {},
   "outputs": [
    {
     "output_type": "stream",
     "name": "stdout",
     "text": [
      "[8494, 25607, 2066, 2606, 33760, 10387, 2438, 37364, 26131]\n"
     ]
    }
   ],
   "source": [
    "print(arr)"
   ]
  }
 ]
}