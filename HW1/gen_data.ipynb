{
 "metadata": {
  "language_info": {
   "codemirror_mode": {
    "name": "ipython",
    "version": 3
   },
   "file_extension": ".py",
   "mimetype": "text/x-python",
   "name": "python",
   "nbconvert_exporter": "python",
   "pygments_lexer": "ipython3",
   "version": "3.8.8-final"
  },
  "orig_nbformat": 2,
  "kernelspec": {
   "name": "python388jvsc74a57bd016962a81fd87ca12fc8229dc5892b701c46750bc2c618b006ecbbf76002778a9",
   "display_name": "Python 3.8.8 64-bit (conda)"
  }
 },
 "nbformat": 4,
 "nbformat_minor": 2,
 "cells": [
  {
   "source": [
    "# For p4"
   ],
   "cell_type": "markdown",
   "metadata": {}
  },
  {
   "cell_type": "code",
   "execution_count": 33,
   "metadata": {},
   "outputs": [],
   "source": [
    "import random as rnd\n",
    "def get_op():\n",
    "    ops = [\"+\", \"-\", \"*\", \"/\"]\n",
    "    # ops = [\"+\", \"-\", \"*\"]\n",
    "    return rnd.choice(ops)\n",
    "\n",
    "def get_num(max_n):\n",
    "    return str(rnd.randint(1, max_n))\n",
    "\n",
    "def get_case(length, max_n, depth):\n",
    "    p = 0\n",
    "    case = \"\"\n",
    "    for _ in range(length):\n",
    "        if rnd.random()>p and depth>0:\n",
    "            case += f\"({get_case(length-1, max_n, depth-1)})\"\n",
    "        else:\n",
    "            case += get_num(max_n)\n",
    "        case += get_op()\n",
    "    if rnd.random()>p and depth>0:\n",
    "        case += f\"({get_case(length-1, max_n, depth-1)})\"\n",
    "    else:\n",
    "        case += get_num(max_n)\n",
    "    return case"
   ]
  },
  {
   "cell_type": "code",
   "execution_count": 43,
   "metadata": {},
   "outputs": [],
   "source": [
    "case_num = 10\n",
    "length = 7\n",
    "max_n = 10**3\n",
    "par_depth = 4\n",
    "test_cases = []\n",
    "for _ in range(case_num):\n",
    "    test_cases.append(get_case(length, max_n, par_depth))\n"
   ]
  },
  {
   "cell_type": "code",
   "execution_count": 44,
   "metadata": {},
   "outputs": [],
   "source": [
    "with open(\"p4.in\", mode='w') as file:\n",
    "    for c in test_cases:\n",
    "        file.write(c)\n",
    "        file.write('\\n')"
   ]
  },
  {
   "cell_type": "code",
   "execution_count": 45,
   "metadata": {},
   "outputs": [],
   "source": [
    "with open(\"p4.ans\", mode='w') as file:\n",
    "    for c in test_cases:\n",
    "        file.write(f\"{eval(c):f}\")\n",
    "        file.write('\\n')\n",
    "        # print(f\"{eval(c):.6f}\")\n",
    "# for c in test_cases:"
   ]
  },
  {
   "cell_type": "code",
   "execution_count": 4,
   "metadata": {},
   "outputs": [
    {
     "output_type": "stream",
     "name": "stdout",
     "text": [
      "461\n7257\n8638\n3006\n4183\n6344\n6745\n9250\n2031\n3292\n7856\n4364\n5037\n6077\n4796\n9684\n3106\n2802\n7353\n6809\n"
     ]
    }
   ],
   "source": [
    "for i in range(20):\n",
    "    print(get_num(10**4))"
   ]
  },
  {
   "cell_type": "code",
   "execution_count": 7,
   "metadata": {},
   "outputs": [
    {
     "output_type": "execute_result",
     "data": {
      "text/plain": [
       "-127232123392.47882"
      ]
     },
     "metadata": {},
     "execution_count": 7
    }
   ],
   "source": [
    "line = \"(461*(7257-8638)-(3006*4364)+(4183/6344)/6745)*9250+2031/3292+(7856)\"\n",
    "eval(line)"
   ]
  },
  {
   "source": [
    "# For p6"
   ],
   "cell_type": "markdown",
   "metadata": {}
  },
  {
   "cell_type": "code",
   "execution_count": 12,
   "metadata": {},
   "outputs": [],
   "source": [
    "from random import choice, randint\n",
    "# cmds = [\"Reverse\", \"Insert\", \"Delete\", \"Query\"]\n",
    "cmds = [\"Query\"]\n",
    "n = 10\n",
    "q = 5\n",
    "arr = [randint(-50000,50000) for i in range(n)]\n",
    "# print(arr_str)\n",
    "with open(\"p6-in\", mode=\"w+\") as f:\n",
    "    arr_str = \"\"\n",
    "    for i in arr:\n",
    "        arr_str += f\"{i} \"\n",
    "    arr_str += \"\\n\"\n",
    "    f.write(f\"{n} {q}\")\n",
    "    f.write(arr_str)\n",
    "\n",
    "with open(\"p6-out\", mode=\"w+\") as f:\n",
    "    pass\n",
    "\n",
    "for i in range(q):\n",
    "    cmd = choice(cmds)\n",
    "    N = len(arr)\n",
    "    if cmd == \"Query\":\n",
    "        l = randint(1, N)\n",
    "        r = randint(l, N)\n",
    "        k = randint(1, r-l+1)\n",
    "        full_cmd = f\"{cmd} {l} {r} {k}\\n\"\n",
    "        with open(\"p6-in\", mode=\"a\") as f:\n",
    "            f.write(full_cmd)\n",
    "        sliced = sorted(arr[l-1:r+1])\n",
    "        answer = str(sliced[k-1]) + \"\\n\"\n",
    "        with open(\"p6-out\", mode=\"a\") as f:\n",
    "            f.write(answer)\n"
   ]
  },
  {
   "cell_type": "code",
   "execution_count": 3,
   "metadata": {},
   "outputs": [
    {
     "output_type": "stream",
     "name": "stdout",
     "text": [
      "16 1\n350 100 339 244 131 15 114 97 187 455 20 85 409 196 51 343 "
     ]
    }
   ],
   "source": [
    "from random import choice, randint\n",
    "ar_len = 16\n",
    "print(f\"{ar_len} 1\")\n",
    "arr = [randint(0,500) for i in range(ar_len)]\n",
    "for i in arr:\n",
    "    print(i, end=\" \")"
   ]
  }
 ]
}