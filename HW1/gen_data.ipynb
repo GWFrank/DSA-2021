{
 "metadata": {
  "language_info": {
   "codemirror_mode": {
    "name": "ipython",
    "version": 3
   },
   "file_extension": ".py",
   "mimetype": "text/x-python",
   "name": "python",
   "nbconvert_exporter": "python",
   "pygments_lexer": "ipython3",
   "version": "3.8.5-final"
  },
  "orig_nbformat": 2,
  "kernelspec": {
   "name": "python3",
   "display_name": "Python 3.8.5 64-bit ('base': conda)",
   "metadata": {
    "interpreter": {
     "hash": "9388b921acf3223bba84329a7130b76507e1e2471c00c4c85a49271d59a7fbfd"
    }
   }
  }
 },
 "nbformat": 4,
 "nbformat_minor": 2,
 "cells": [
  {
   "source": [
    "## For p4"
   ],
   "cell_type": "markdown",
   "metadata": {}
  },
  {
   "cell_type": "code",
   "execution_count": 35,
   "metadata": {},
   "outputs": [],
   "source": [
    "import random as rnd"
   ]
  },
  {
   "cell_type": "code",
   "execution_count": 84,
   "metadata": {},
   "outputs": [],
   "source": [
    "def get_op():\n",
    "    ops = [\"+\", \"-\", \"*\", \"/\"]\n",
    "    return rnd.choice(ops)\n",
    "\n",
    "def get_num(max_n):\n",
    "    return str(rnd.randint(1, max_n))\n",
    "\n",
    "def get_case(length, max_n, depth):\n",
    "    p = 0.8\n",
    "    case = \"\"\n",
    "    for _ in range(length):\n",
    "        if rnd.random()>p and depth>0:\n",
    "            case += f\"({get_case(length-1, max_n, depth-1)})\"\n",
    "        else:\n",
    "            case += get_num(max_n)\n",
    "        case += get_op()\n",
    "    if rnd.random()>p and depth>0:\n",
    "        case += f\"({get_case(length-1, max_n, depth-1)})\"\n",
    "    else:\n",
    "        case += get_num(max_n)\n",
    "    return case\n",
    "\n",
    "case_num = 100\n",
    "length = 6\n",
    "max_n = 10**5\n",
    "par_depth = 10\n",
    "test_cases = []\n",
    "for _ in range(case_num):\n",
    "    test_cases.append(get_case(length, max_n, par_depth))\n"
   ]
  },
  {
   "cell_type": "code",
   "execution_count": 85,
   "metadata": {},
   "outputs": [],
   "source": [
    "with open(\"p4.in\", mode='w') as file:\n",
    "    for c in test_cases:\n",
    "        file.write(c)\n",
    "        file.write('\\n')"
   ]
  },
  {
   "cell_type": "code",
   "execution_count": 86,
   "metadata": {},
   "outputs": [],
   "source": [
    "with open(\"p4.ans\", mode='w') as file:\n",
    "    for c in test_cases:\n",
    "        file.write(f\"{eval(c):f}\")\n",
    "        file.write('\\n')\n",
    "        # print(f\"{eval(c):.6f}\")\n",
    "# for c in test_cases:"
   ]
  },
  {
   "cell_type": "code",
   "execution_count": null,
   "metadata": {},
   "outputs": [],
   "source": []
  },
  {
   "cell_type": "code",
   "execution_count": null,
   "metadata": {},
   "outputs": [],
   "source": []
  }
 ]
}